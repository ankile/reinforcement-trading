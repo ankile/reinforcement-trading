{
  "nbformat": 4,
  "nbformat_minor": 0,
  "metadata": {
    "colab": {
      "name": "test-new-system.ipynb",
      "provenance": [],
      "collapsed_sections": [],
      "toc_visible": true,
      "include_colab_link": true
    },
    "kernelspec": {
      "name": "python3",
      "display_name": "Python 3"
    },
    "accelerator": "GPU"
  },
  "cells": [
    {
      "cell_type": "markdown",
      "metadata": {
        "id": "view-in-github",
        "colab_type": "text"
      },
      "source": [
        "<a href=\"https://colab.research.google.com/github/ankile/reinforcement-trading/blob/master/train-agent-3-nb.ipynb\" target=\"_parent\"><img src=\"https://colab.research.google.com/assets/colab-badge.svg\" alt=\"Open In Colab\"/></a>"
      ]
    },
    {
      "cell_type": "markdown",
      "metadata": {
        "id": "6sFxUHA5OeSB",
        "colab_type": "text"
      },
      "source": [
        "# Reinforcement learning using DQN and CNN – Agent 3"
      ]
    },
    {
      "cell_type": "markdown",
      "metadata": {
        "id": "H0PCrGxLM2hv",
        "colab_type": "text"
      },
      "source": [
        "### Get info on current hardware before starting"
      ]
    },
    {
      "cell_type": "code",
      "metadata": {
        "id": "w0b2-3J6_1EN",
        "colab_type": "code",
        "outputId": "819a1baa-89ae-4e34-cdc0-c8b297f98c02",
        "colab": {
          "base_uri": "https://localhost:8080/",
          "height": 306
        }
      },
      "source": [
        "gpu_info = !nvidia-smi\n",
        "gpu_info = '\\n'.join(gpu_info)\n",
        "if gpu_info.find('failed') >= 0:\n",
        "  print('Select the Runtime → \"Change runtime type\" menu to enable a GPU accelerator, ')\n",
        "  print('and then re-execute this cell.')\n",
        "else:\n",
        "  print(gpu_info)"
      ],
      "execution_count": 0,
      "outputs": [
        {
          "output_type": "stream",
          "text": [
            "Sun Apr 26 08:52:32 2020       \n",
            "+-----------------------------------------------------------------------------+\n",
            "| NVIDIA-SMI 440.64.00    Driver Version: 418.67       CUDA Version: 10.1     |\n",
            "|-------------------------------+----------------------+----------------------+\n",
            "| GPU  Name        Persistence-M| Bus-Id        Disp.A | Volatile Uncorr. ECC |\n",
            "| Fan  Temp  Perf  Pwr:Usage/Cap|         Memory-Usage | GPU-Util  Compute M. |\n",
            "|===============================+======================+======================|\n",
            "|   0  Tesla P100-PCIE...  Off  | 00000000:00:04.0 Off |                    0 |\n",
            "| N/A   33C    P0    26W / 250W |      0MiB / 16280MiB |      0%      Default |\n",
            "+-------------------------------+----------------------+----------------------+\n",
            "                                                                               \n",
            "+-----------------------------------------------------------------------------+\n",
            "| Processes:                                                       GPU Memory |\n",
            "|  GPU       PID   Type   Process name                             Usage      |\n",
            "|=============================================================================|\n",
            "|  No running processes found                                                 |\n",
            "+-----------------------------------------------------------------------------+\n"
          ],
          "name": "stdout"
        }
      ]
    },
    {
      "cell_type": "markdown",
      "metadata": {
        "id": "qCSZuqQMQ0Xn",
        "colab_type": "text"
      },
      "source": [
        "## Training the Model"
      ]
    },
    {
      "cell_type": "markdown",
      "metadata": {
        "id": "g7Fd6nMyM8Hh",
        "colab_type": "text"
      },
      "source": [
        "### Install, download, and import required code"
      ]
    },
    {
      "cell_type": "code",
      "metadata": {
        "id": "6oquMF3NK_60",
        "colab_type": "code",
        "colab": {}
      },
      "source": [
        "!git clone https://github.com/ankile/reinforcement-trading.git\n",
        "!mv reinforcement-trading/* .\n",
        "!rm -rf reinforcement-trading"
      ],
      "execution_count": 0,
      "outputs": []
    },
    {
      "cell_type": "code",
      "metadata": {
        "id": "oEuEPMLWEUqV",
        "colab_type": "code",
        "outputId": "8ca1efb0-f60c-4e5f-9166-ecf81d3d5579",
        "colab": {
          "base_uri": "https://localhost:8080/",
          "height": 68
        }
      },
      "source": [
        "!pip3 install ptan --quiet"
      ],
      "execution_count": 0,
      "outputs": [
        {
          "output_type": "stream",
          "text": [
            "\u001b[K     |████████████████████████████████| 773.1MB 24kB/s \n",
            "\u001b[?25h  Building wheel for ptan (setup.py) ... \u001b[?25l\u001b[?25hdone\n",
            "\u001b[31mERROR: torchvision 0.5.0 has requirement torch==1.4.0, but you'll have torch 1.3.0 which is incompatible.\u001b[0m\n"
          ],
          "name": "stdout"
        }
      ]
    },
    {
      "cell_type": "code",
      "metadata": {
        "id": "aSUGIAPvMKd6",
        "colab_type": "code",
        "colab": {}
      },
      "source": [
        "from lib import models\n",
        "import configuration as conf\n",
        "from train_agent import train_agent"
      ],
      "execution_count": 0,
      "outputs": []
    },
    {
      "cell_type": "markdown",
      "metadata": {
        "id": "5cbBY2oaNEW9",
        "colab_type": "text"
      },
      "source": [
        "### Run the actual training of the agent"
      ]
    },
    {
      "cell_type": "code",
      "metadata": {
        "id": "tb-fNdLBSJnW",
        "colab_type": "code",
        "colab": {}
      },
      "source": [
        "train_agent(\n",
        "    \"agent-3\",\n",
        "    data_paths=conf.default_data_paths,\n",
        "    validation_paths=conf.default_validation_paths,\n",
        "    model=models.DQNConv1DLarge1,\n",
        "    large=True,\n",
        "    # Get a checkpoint the saves folder if resuming training\n",
        "    load_checkpoint=None,\n",
        ")"
      ],
      "execution_count": 0,
      "outputs": []
    }
  ]
}